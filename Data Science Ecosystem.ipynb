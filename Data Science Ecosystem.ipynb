{
 "cells": [
  {
   "attachments": {},
   "cell_type": "markdown",
   "id": "0516f722",
   "metadata": {},
   "source": [
    "# Data Science Tools and Ecosystem"
   ]
  },
  {
   "cell_type": "markdown",
   "id": "42819af8",
   "metadata": {
    "jp-MarkdownHeadingCollapsed": true
   },
   "source": [
    "## Introduction\n",
    "In this notebook, we will explore some fundamental concepts used in data science, including programming languages, libraries, and tools. We will also demonstrate basic arithmetic operations using Python."
   ]
  },
  {
   "cell_type": "markdown",
   "id": "4bbde71f",
   "metadata": {
    "jp-MarkdownHeadingCollapsed": true
   },
   "source": [
    "## Data Science Languages\n",
    "- Python\n",
    "- R\n",
    "- SQL\n",
    "- Java\n",
    "- Scala"
   ]
  },
  {
   "cell_type": "markdown",
   "id": "11b37365",
   "metadata": {},
   "source": [
    "## Data Science Libraries\n",
    "- NumPy\n",
    "- Pandas\n",
    "- Matplotlib\n",
    "- Seaborn\n",
    "- Scikit-learn\n",
    "- TensorFlow"
   ]
  },
  {
   "cell_type": "markdown",
   "id": "635828aa-7085-4c5a-bf7b-e1b9cf5448b7",
   "metadata": {},
   "source": [
    "## Data Science Tools\n",
    "\n",
    "| Tool Name       | Category          |\n",
    "|----------------|-------------------|\n",
    "| Jupyter Notebook | IDE/Notebook     |\n",
    "| RStudio         | IDE               |\n",
    "| Apache Hadoop   | Big Data Framework|\n",
    "| TensorFlow      | Deep Learning     |\n",
    "| Apache Spark    | Big Data Framework|"
   ]
  },
  {
   "cell_type": "markdown",
   "id": "05b2b389",
   "metadata": {},
   "source": [
    "## Below are few examples of evaluting arithmetic expressions in python"
   ]
  },
  {
   "cell_type": "code",
   "execution_count": 5,
   "id": "574f9ebc",
   "metadata": {},
   "outputs": [
    {
     "data": {
      "text/plain": [
       "11"
      ]
     },
     "execution_count": 5,
     "metadata": {},
     "output_type": "execute_result"
    }
   ],
   "source": [
    "# this is a comman arithmetic example to add and then multiply integers\n",
    "5 + 3 * 2"
   ]
  },
  {
   "cell_type": "code",
   "execution_count": 2,
   "id": "81e003ca",
   "metadata": {},
   "outputs": [
    {
     "data": {
      "text/plain": [
       "45"
      ]
     },
     "execution_count": 2,
     "metadata": {},
     "output_type": "execute_result"
    }
   ],
   "source": [
    "number1 = 10\n",
    "number2 = 4\n",
    "result = number1 * number2 + 5\n",
    "result"
   ]
  },
  {
   "cell_type": "code",
   "execution_count": 6,
   "id": "0f4a0e98",
   "metadata": {},
   "outputs": [
    {
     "data": {
      "text/plain": [
       "2.5"
      ]
     },
     "execution_count": 6,
     "metadata": {},
     "output_type": "execute_result"
    }
   ],
   "source": [
    "# this is will convert 150 minutes to hours by diving by 60\n",
    "minutes = 150\n",
    "hours = minutes / 60\n",
    "hours"
   ]
  },
  {
   "cell_type": "markdown",
   "id": "6bf7bd6a",
   "metadata": {},
   "source": [
    "## Objectives\n",
    "- Learn common languages used in data science\n",
    "- Understand important libraries and tools\n",
    "- Perform basic Python calculations"
   ]
  },
  {
   "cell_type": "markdown",
   "id": "adf97bc5",
   "metadata": {},
   "source": [
    "**Author: Brijesh Singh**"
   ]
  }
 ],
 "metadata": {
  "kernelspec": {
   "display_name": "Python 3 (ipykernel)",
   "language": "python",
   "name": "python3"
  },
  "language_info": {
   "codemirror_mode": {
    "name": "ipython",
    "version": 3
   },
   "file_extension": ".py",
   "mimetype": "text/x-python",
   "name": "python",
   "nbconvert_exporter": "python",
   "pygments_lexer": "ipython3",
   "version": "3.13.2"
  }
 },
 "nbformat": 4,
 "nbformat_minor": 5
}
